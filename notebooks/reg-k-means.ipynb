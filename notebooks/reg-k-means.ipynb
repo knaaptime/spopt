{
 "cells": [
  {
   "cell_type": "markdown",
   "metadata": {},
   "source": [
    "# Region K Means"
   ]
  },
  {
   "cell_type": "code",
   "execution_count": 1,
   "metadata": {
    "ExecuteTime": {
     "end_time": "2021-01-13T18:44:04.001109Z",
     "start_time": "2021-01-13T18:44:03.993289Z"
    }
   },
   "outputs": [],
   "source": [
    "from collections import defaultdict\n",
    "import os\n",
    "import sys\n",
    "sys.path.append(\"../\")"
   ]
  },
  {
   "cell_type": "code",
   "execution_count": 2,
   "metadata": {
    "ExecuteTime": {
     "end_time": "2021-01-13T18:44:05.478029Z",
     "start_time": "2021-01-13T18:44:04.003868Z"
    }
   },
   "outputs": [],
   "source": [
    "import spopt\n",
    "from spopt import w_to_g\n",
    "\n",
    "import libpysal\n",
    "import geopandas\n",
    "import networkx\n",
    "import numpy"
   ]
  },
  {
   "cell_type": "code",
   "execution_count": 3,
   "metadata": {
    "ExecuteTime": {
     "end_time": "2021-01-13T18:44:05.483720Z",
     "start_time": "2021-01-13T18:44:05.481162Z"
    }
   },
   "outputs": [],
   "source": [
    "numpy.random.seed(12345)"
   ]
  },
  {
   "cell_type": "code",
   "execution_count": 4,
   "metadata": {
    "ExecuteTime": {
     "end_time": "2021-01-13T18:44:05.489450Z",
     "start_time": "2021-01-13T18:44:05.486037Z"
    }
   },
   "outputs": [],
   "source": [
    "w = libpysal.weights.lat2W(3,3)\n",
    "data = numpy.random.normal(size=(w.n,3))"
   ]
  },
  {
   "cell_type": "code",
   "execution_count": 5,
   "metadata": {
    "ExecuteTime": {
     "end_time": "2021-01-13T18:44:05.496552Z",
     "start_time": "2021-01-13T18:44:05.490994Z"
    }
   },
   "outputs": [
    {
     "data": {
      "text/plain": [
       "{0: [3, 1],\n",
       " 3: [0, 6, 4],\n",
       " 1: [0, 4, 2],\n",
       " 4: [1, 3, 7, 5],\n",
       " 2: [1, 5],\n",
       " 5: [2, 4, 8],\n",
       " 6: [3, 7],\n",
       " 7: [4, 6, 8],\n",
       " 8: [5, 7]}"
      ]
     },
     "execution_count": 5,
     "metadata": {},
     "output_type": "execute_result"
    }
   ],
   "source": [
    "w.neighbors"
   ]
  },
  {
   "cell_type": "code",
   "execution_count": 6,
   "metadata": {
    "ExecuteTime": {
     "end_time": "2021-01-13T18:44:05.500321Z",
     "start_time": "2021-01-13T18:44:05.498239Z"
    }
   },
   "outputs": [],
   "source": [
    "RKM = spopt.RegionKMeansHeuristic"
   ]
  },
  {
   "cell_type": "code",
   "execution_count": 7,
   "metadata": {
    "ExecuteTime": {
     "end_time": "2021-01-13T18:44:05.510444Z",
     "start_time": "2021-01-13T18:44:05.501886Z"
    }
   },
   "outputs": [],
   "source": [
    "model = RKM(data, 3, w)\n",
    "model.solve()"
   ]
  },
  {
   "cell_type": "code",
   "execution_count": 8,
   "metadata": {
    "ExecuteTime": {
     "end_time": "2021-01-13T18:44:05.593484Z",
     "start_time": "2021-01-13T18:44:05.514127Z"
    }
   },
   "outputs": [],
   "source": [
    "dim = 10\n",
    "w = libpysal.weights.lat2W(dim,dim)\n",
    "data = numpy.random.normal(size=(w.n,3))\n",
    "model = RKM(data, 20, w)\n",
    "model.solve()"
   ]
  },
  {
   "cell_type": "code",
   "execution_count": 9,
   "metadata": {
    "ExecuteTime": {
     "end_time": "2021-01-13T18:44:05.600891Z",
     "start_time": "2021-01-13T18:44:05.596699Z"
    }
   },
   "outputs": [
    {
     "data": {
      "text/plain": [
       "2"
      ]
     },
     "execution_count": 9,
     "metadata": {},
     "output_type": "execute_result"
    }
   ],
   "source": [
    "model.iters_"
   ]
  },
  {
   "cell_type": "code",
   "execution_count": 10,
   "metadata": {
    "ExecuteTime": {
     "end_time": "2021-01-13T18:44:05.606468Z",
     "start_time": "2021-01-13T18:44:05.602692Z"
    }
   },
   "outputs": [
    {
     "data": {
      "text/plain": [
       "array([16, 16, 16, 16, 16,  6,  6,  6, 10, 10,  5,  5, 17, 17, 17, 17,  6,\n",
       "        6,  6, 10,  5,  5, 17, 17, 12, 12, 14,  6, 10, 10,  8,  5, 12, 12,\n",
       "       12, 14, 14, 14, 10, 10,  8,  8,  8, 11, 18, 18, 14, 14,  1,  1,  8,\n",
       "        4, 11, 11, 11, 18, 18, 14,  1,  7,  4,  4,  4, 11, 11, 18, 18,  1,\n",
       "        1,  7,  4,  4,  3,  3,  2,  2,  2, 13,  7,  7,  4,  9,  9,  2,  2,\n",
       "       19, 19, 13, 13, 13,  9,  9,  9, 19, 19, 19, 19,  0, 15, 15])"
      ]
     },
     "execution_count": 10,
     "metadata": {},
     "output_type": "execute_result"
    }
   ],
   "source": [
    "model.labels_"
   ]
  },
  {
   "cell_type": "code",
   "execution_count": 11,
   "metadata": {
    "ExecuteTime": {
     "end_time": "2021-01-13T18:44:05.612506Z",
     "start_time": "2021-01-13T18:44:05.608360Z"
    }
   },
   "outputs": [
    {
     "data": {
      "text/plain": [
       "(20,)"
      ]
     },
     "execution_count": 11,
     "metadata": {},
     "output_type": "execute_result"
    }
   ],
   "source": [
    "numpy.unique(model.labels_).shape"
   ]
  },
  {
   "cell_type": "code",
   "execution_count": 12,
   "metadata": {
    "ExecuteTime": {
     "end_time": "2021-01-13T18:44:05.627311Z",
     "start_time": "2021-01-13T18:44:05.615059Z"
    }
   },
   "outputs": [],
   "source": [
    "libpysal.weights.build_lattice_shapefile(dim, dim, \"lattice.shp\")"
   ]
  },
  {
   "cell_type": "code",
   "execution_count": 13,
   "metadata": {
    "ExecuteTime": {
     "end_time": "2021-01-13T18:44:05.640237Z",
     "start_time": "2021-01-13T18:44:05.628830Z"
    }
   },
   "outputs": [],
   "source": [
    "gdf = geopandas.read_file('lattice.shp')"
   ]
  },
  {
   "cell_type": "code",
   "execution_count": 14,
   "metadata": {
    "ExecuteTime": {
     "end_time": "2021-01-13T18:44:05.805757Z",
     "start_time": "2021-01-13T18:44:05.642234Z"
    }
   },
   "outputs": [
    {
     "data": {
      "text/plain": [
       "<AxesSubplot:>"
      ]
     },
     "execution_count": 14,
     "metadata": {},
     "output_type": "execute_result"
    },
    {
     "data": {
      "image/png": "[encoded data removed]",
      "text/plain": [
       "<Figure size 432x288 with 1 Axes>"
      ]
     },
     "metadata": {
      "image/png": {
       "height": 248,
       "width": 251
      },
      "needs_background": "light"
     },
     "output_type": "display_data"
    }
   ],
   "source": [
    "gdf['region'] = model.labels_\n",
    "gdf.plot(column='region')"
   ]
  },
  {
   "cell_type": "code",
   "execution_count": 15,
   "metadata": {
    "ExecuteTime": {
     "end_time": "2021-01-13T18:44:05.810347Z",
     "start_time": "2021-01-13T18:44:05.807437Z"
    }
   },
   "outputs": [],
   "source": [
    "areas = numpy.arange(dim*dim)\n",
    "regions = [areas[model.labels_==region] for region in range(20)]"
   ]
  },
  {
   "cell_type": "code",
   "execution_count": 16,
   "metadata": {
    "ExecuteTime": {
     "end_time": "2021-01-13T18:44:05.818597Z",
     "start_time": "2021-01-13T18:44:05.812756Z"
    }
   },
   "outputs": [
    {
     "data": {
      "text/plain": [
       "[array([97]),\n",
       " array([48, 49, 58, 67, 68]),\n",
       " array([74, 75, 76, 83, 84]),\n",
       " array([72, 73]),\n",
       " array([51, 60, 61, 62, 70, 71, 80]),\n",
       " array([10, 11, 20, 21, 31]),\n",
       " array([ 5,  6,  7, 16, 17, 18, 27]),\n",
       " array([59, 69, 78, 79]),\n",
       " array([30, 40, 41, 42, 50]),\n",
       " array([81, 82, 90, 91, 92]),\n",
       " array([ 8,  9, 19, 28, 29, 38, 39]),\n",
       " array([43, 52, 53, 54, 63, 64]),\n",
       " array([24, 25, 32, 33, 34]),\n",
       " array([77, 87, 88, 89]),\n",
       " array([26, 35, 36, 37, 46, 47, 57]),\n",
       " array([98, 99]),\n",
       " array([0, 1, 2, 3, 4]),\n",
       " array([12, 13, 14, 15, 22, 23]),\n",
       " array([44, 45, 55, 56, 65, 66]),\n",
       " array([85, 86, 93, 94, 95, 96])]"
      ]
     },
     "execution_count": 16,
     "metadata": {},
     "output_type": "execute_result"
    }
   ],
   "source": [
    "regions"
   ]
  },
  {
   "cell_type": "code",
   "execution_count": 17,
   "metadata": {
    "ExecuteTime": {
     "end_time": "2021-01-13T18:44:05.823848Z",
     "start_time": "2021-01-13T18:44:05.820811Z"
    }
   },
   "outputs": [],
   "source": [
    "g = w_to_g(w)"
   ]
  },
  {
   "cell_type": "code",
   "execution_count": 18,
   "metadata": {
    "ExecuteTime": {
     "end_time": "2021-01-13T18:44:05.834729Z",
     "start_time": "2021-01-13T18:44:05.826059Z"
    }
   },
   "outputs": [
    {
     "name": "stdout",
     "output_type": "stream",
     "text": [
      "[97] True\n",
      "[48 49 58 67 68] True\n",
      "[74 75 76 83 84] True\n",
      "[72 73] True\n",
      "[51 60 61 62 70 71 80] True\n",
      "[10 11 20 21 31] True\n",
      "[ 5  6  7 16 17 18 27] True\n",
      "[59 69 78 79] True\n",
      "[30 40 41 42 50] True\n",
      "[81 82 90 91 92] True\n",
      "[ 8  9 19 28 29 38 39] True\n",
      "[43 52 53 54 63 64] True\n",
      "[24 25 32 33 34] True\n",
      "[77 87 88 89] True\n",
      "[26 35 36 37 46 47 57] True\n",
      "[98 99] True\n",
      "[0 1 2 3 4] True\n",
      "[12 13 14 15 22 23] True\n",
      "[44 45 55 56 65 66] True\n",
      "[85 86 93 94 95 96] True\n"
     ]
    }
   ],
   "source": [
    "for region in regions:\n",
    "    print(region, networkx.is_connected(g.subgraph(region)))"
   ]
  }
 ],
 "metadata": {
  "kernelspec": {
   "display_name": "Python 3",
   "language": "python",
   "name": "python3"
  },
  "language_info": {
   "codemirror_mode": {
    "name": "ipython",
    "version": 3
   },
   "file_extension": ".py",
   "mimetype": "text/x-python",
   "name": "python",
   "nbconvert_exporter": "python",
   "pygments_lexer": "ipython3",
   "version": "3.9.1"
  }
 },
 "nbformat": 4,
 "nbformat_minor": 2
}
